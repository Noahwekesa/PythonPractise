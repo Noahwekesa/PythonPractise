import pandas as pd

a = 5

print(a)
